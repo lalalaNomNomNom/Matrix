{
 "cells": [
  {
   "cell_type": "markdown",
   "metadata": {},
   "source": [
    "# KERRY MATRIX\n",
    "> notebook that creates the kerry datasets.\n",
    "\n",
    "- toc: true \n",
    "- badges: true\n",
    "- comments: true\n",
    "- categories: [jupyter]\n",
    "- image: images/chart-preview.png"
   ]
  },
  {
   "cell_type": "code",
   "execution_count": null,
   "metadata": {},
   "outputs": [],
   "source": [
    "#collapse \n",
    "#IMPORTS\n",
    "import pandas as pd\n",
    "from matplotlib import pyplot as plt\n",
    "\n",
    "rtData = pd.read_csv('https://d14wlfuexuxgcm.cloudfront.net/covid/rt.csv')\n",
    "dailyData = pd.read_csv('https://covidtracking.com/api/v1/states/daily.csv')"
   ]
  },
  {
   "cell_type": "code",
   "execution_count": null,
   "metadata": {},
   "outputs": [],
   "source": [
    "#collapse \n",
    "#SET VARIABLES\n",
    "today = '2020-08-02'\n",
    "week = '2020-08-02/2020-07-26'\n",
    "dateRange = '20200802'"
   ]
  },
  {
   "cell_type": "code",
   "execution_count": null,
   "metadata": {},
   "outputs": [],
   "source": [
    "#collapse \n",
    "#KERRY LOCATIONS AND POPULATION DATA\n",
    "kerryLocations = pd.read_csv('kerry.csv')\n",
    "kerryLocations.columns = map(str.lower, kerryLocations.columns)\n",
    "kerryCols=['state', 'population']\n",
    "kerryLocs = kerryLocations[kerryCols]"
   ]
  },
  {
   "cell_type": "code",
   "execution_count": null,
   "metadata": {},
   "outputs": [],
   "source": [
    "print ('Kerry Locations Information being loaded...')\n",
    "kerryLocs"
   ]
  },
  {
   "cell_type": "code",
   "execution_count": null,
   "metadata": {},
   "outputs": [],
   "source": [
    "#collapse \n",
    "#rtlive data cleaning\n",
    "rtCleaned = rtData[rtData['date']==today]\n",
    "rtColumns = ['date', 'region', 'mean']\n",
    "rtCleaned = rtCleaned[rtColumns]\n",
    "rtCleaned = rtCleaned.rename(columns = {'region':'state'})\n",
    "rtCleaned = rtCleaned.sort_values('state', ascending=True)\n",
    "\n",
    "#PRINT CLEANED DATA\n",
    "print ('rtLive Data being loaded...')\n",
    "rtCleaned"
   ]
  },
  {
   "cell_type": "code",
   "execution_count": null,
   "metadata": {},
   "outputs": [],
   "source": [
    "#collapse \n",
    "#DAILY DATA CLEANING\n",
    "dailyColumns = ['date', 'state', 'death', 'positiveIncrease', 'totalTestResultsIncrease', 'deathIncrease']\n",
    "dailyData = dailyData[dailyColumns]\n",
    "dailyData = dailyData.sort_values('state', ascending=True)\n",
    "dailyCleaned = dailyData[dailyData['date'].astype(str)==dateRange]\n",
    "dailyCleaned"
   ]
  },
  {
   "cell_type": "code",
   "execution_count": null,
   "metadata": {},
   "outputs": [],
   "source": [
    "#collapse \n",
    "#FILTER DATASETS TO KERRY LOCATIONS AND MERGE SETS INTO ONE TABLE\n",
    "\n",
    "startFile=pd.merge(kerryLocs.state, rtCleaned, on=['state'])\n",
    "print ('Kerry File Building...')\n",
    "startFile\n",
    "\n",
    "\n"
   ]
  },
  {
   "cell_type": "code",
   "execution_count": null,
   "metadata": {},
   "outputs": [],
   "source": [
    "#collapse \n",
    "newData=pd.merge(startFile, dailyCleaned, on=['state'])\n",
    "newData=newData.rename(columns={'date_x':'date'})\n",
    "colss = ['date', 'state', 'mean', 'death', 'positiveIncrease', 'totalTestResultsIncrease', 'deathIncrease']\n",
    "newData[colss]"
   ]
  },
  {
   "cell_type": "code",
   "execution_count": null,
   "metadata": {},
   "outputs": [],
   "source": [
    "#collapse  \n",
    "#ADDING CASES, TESTING, AND DEATHS TO DATA FILE\n",
    "dateRange='20200802'\n",
    "cols = ['date', 'state', 'death', 'positiveIncrease', 'totalTestResultsIncrease', 'deathIncrease']\n",
    "dailyData = dailyData[cols]\n",
    "dailyData = dailyData.sort_values('state', ascending=True)\n",
    "dailyData = dailyData[dailyData['date'].astype(str)==dateRange]\n",
    "dailyData\n",
    "newData=pd.merge(startFile, dailyData, on=['state'])\n",
    "newData=newData.rename(columns={'date_x':'date'})\n",
    "colss = ['date', 'state', 'mean', 'death', 'positiveIncrease', 'totalTestResultsIncrease', 'deathIncrease']\n",
    "\n",
    "newData[colss]"
   ]
  },
  {
   "cell_type": "code",
   "execution_count": null,
   "metadata": {},
   "outputs": [],
   "source": [
    "#collapse \n",
    "startFile=pd.merge(kerryLocations.state, rtCleaned, on=['state'])\n",
    "print ('Kerry File Building...')\n",
    "startFile"
   ]
  },
  {
   "cell_type": "code",
   "execution_count": null,
   "metadata": {},
   "outputs": [],
   "source": [
    "#collapse  \n",
    "read = pd.read_csv('us.csv')\n",
    "read.shape\n",
    "read.head()\n",
    "fee=['Kerry Locations', 'State', 'Population', 'SD Past']\n",
    "tre=read[fee]\n",
    "tre"
   ]
  },
  {
   "cell_type": "code",
   "execution_count": null,
   "metadata": {},
   "outputs": [],
   "source": [
    "#collapse \n",
    "plt.title(\"Canada Matrix Chart\")\n",
    "plt.xlabel(\"State\")\n",
    "plt.ylabel(\"SD Past\")\n",
    "x = tre[\"SD Past\"]\n",
    "y = tre[\"State\"]\n",
    "\n",
    "plt.plot(x,y)"
   ]
  },
  {
   "cell_type": "code",
   "execution_count": null,
   "metadata": {},
   "outputs": [],
   "source": [
    "#collapse \n",
    "mer = pd.merge(rtChanged, dailyData, on=['state'])"
   ]
  },
  {
   "cell_type": "code",
   "execution_count": null,
   "metadata": {},
   "outputs": [],
   "source": [
    "#collapse \n",
    "mer"
   ]
  },
  {
   "cell_type": "code",
   "execution_count": null,
   "metadata": {
    "scrolled": true
   },
   "outputs": [],
   "source": [
    "#collapse \n",
    "meg = pd.merge(kerryLocations, mer, on='state')\n",
    "meg = meg.rename(columns={'date_x':'date'})\n",
    "coll = ['state',  'mean', 'death', 'positiveIncrease', 'totalTestResultsIncrease', 'deathIncrease']\n",
    "mew = meg[coll]\n",
    "print ('Kerry Locations')\n",
    "print ('Matrix Report')\n",
    "mew"
   ]
  },
  {
   "cell_type": "code",
   "execution_count": null,
   "metadata": {},
   "outputs": [],
   "source": [
    "#collapse  \n",
    "#chart over time\n",
    "fig, ax = plt.subplots(figsize=(10,5))\n",
    "dailyData.death.plot(c=\"g\", label=\"Test-adjusted\")\n",
    "dailyData.positiveIncrease.plot(c=\"g\", alpha=.5, label=\"Test-adjusted (raw)\", style=\"--\")\n",
    "dailyData.deathIncrease.plot(c=\"b\", label=\"Infections\")\n",
    "fig.set_facecolor('w')\n",
    "ax.legend();"
   ]
  }
 ],
 "metadata": {
  "kernelspec": {
   "display_name": "Python 3",
   "language": "python",
   "name": "python3"
  },
  "language_info": {
   "codemirror_mode": {
    "name": "ipython",
    "version": 3
   },
   "file_extension": ".py",
   "mimetype": "text/x-python",
   "name": "python",
   "nbconvert_exporter": "python",
   "pygments_lexer": "ipython3",
   "version": "3.8.3"
  }
 },
 "nbformat": 4,
 "nbformat_minor": 4
}
